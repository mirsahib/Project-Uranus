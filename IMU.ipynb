{
 "cells": [
  {
   "cell_type": "code",
   "execution_count": 117,
   "metadata": {},
   "outputs": [],
   "source": [
    "import numpy as np\n",
    "import pandas as pd\n",
    "from sklearn.model_selection import train_test_split\n",
    "from sklearn.tree import DecisionTreeClassifier\n",
    "from sklearn.metrics import accuracy_score\n",
    "from sklearn.utils import shuffle\n",
    "from sklearn import tree"
   ]
  },
  {
   "cell_type": "code",
   "execution_count": 118,
   "metadata": {},
   "outputs": [],
   "source": [
    "imu_data = pd.read_csv(\"Dataset.csv\")"
   ]
  },
  {
   "cell_type": "code",
   "execution_count": 119,
   "metadata": {},
   "outputs": [
    {
     "data": {
      "text/html": [
       "<div>\n",
       "<style scoped>\n",
       "    .dataframe tbody tr th:only-of-type {\n",
       "        vertical-align: middle;\n",
       "    }\n",
       "\n",
       "    .dataframe tbody tr th {\n",
       "        vertical-align: top;\n",
       "    }\n",
       "\n",
       "    .dataframe thead th {\n",
       "        text-align: right;\n",
       "    }\n",
       "</style>\n",
       "<table border=\"1\" class=\"dataframe\">\n",
       "  <thead>\n",
       "    <tr style=\"text-align: right;\">\n",
       "      <th></th>\n",
       "      <th>-0.967307</th>\n",
       "      <th>-9.036178</th>\n",
       "      <th>-5.037657</th>\n",
       "      <th>-0.526883</th>\n",
       "      <th>-0.259014</th>\n",
       "      <th>-0.390219</th>\n",
       "      <th>-35.787967</th>\n",
       "      <th>42.7695</th>\n",
       "      <th>6.327892</th>\n",
       "      <th>1</th>\n",
       "    </tr>\n",
       "  </thead>\n",
       "  <tbody>\n",
       "    <tr>\n",
       "      <th>0</th>\n",
       "      <td>-1.027165</td>\n",
       "      <td>-9.158288</td>\n",
       "      <td>-5.032868</td>\n",
       "      <td>-0.532475</td>\n",
       "      <td>-0.299228</td>\n",
       "      <td>-0.397410</td>\n",
       "      <td>-35.259078</td>\n",
       "      <td>41.882167</td>\n",
       "      <td>6.156868</td>\n",
       "      <td>1</td>\n",
       "    </tr>\n",
       "    <tr>\n",
       "      <th>1</th>\n",
       "      <td>-0.821253</td>\n",
       "      <td>-8.988291</td>\n",
       "      <td>-4.987376</td>\n",
       "      <td>-0.560172</td>\n",
       "      <td>-0.151953</td>\n",
       "      <td>-0.334558</td>\n",
       "      <td>-33.672420</td>\n",
       "      <td>42.414566</td>\n",
       "      <td>5.985844</td>\n",
       "      <td>1</td>\n",
       "    </tr>\n",
       "    <tr>\n",
       "      <th>2</th>\n",
       "      <td>-1.094206</td>\n",
       "      <td>-9.182231</td>\n",
       "      <td>-4.977799</td>\n",
       "      <td>-0.522888</td>\n",
       "      <td>-0.228121</td>\n",
       "      <td>-0.380099</td>\n",
       "      <td>-36.316852</td>\n",
       "      <td>42.592033</td>\n",
       "      <td>5.814820</td>\n",
       "      <td>1</td>\n",
       "    </tr>\n",
       "    <tr>\n",
       "      <th>3</th>\n",
       "      <td>-1.084629</td>\n",
       "      <td>-9.285188</td>\n",
       "      <td>-4.688086</td>\n",
       "      <td>-0.545259</td>\n",
       "      <td>-0.332518</td>\n",
       "      <td>-0.407263</td>\n",
       "      <td>-35.611671</td>\n",
       "      <td>42.946968</td>\n",
       "      <td>6.156868</td>\n",
       "      <td>1</td>\n",
       "    </tr>\n",
       "    <tr>\n",
       "      <th>4</th>\n",
       "      <td>-1.031954</td>\n",
       "      <td>-9.096036</td>\n",
       "      <td>-4.996953</td>\n",
       "      <td>-0.527948</td>\n",
       "      <td>-0.264340</td>\n",
       "      <td>-0.374240</td>\n",
       "      <td>-36.316852</td>\n",
       "      <td>42.237102</td>\n",
       "      <td>5.814820</td>\n",
       "      <td>1</td>\n",
       "    </tr>\n",
       "  </tbody>\n",
       "</table>\n",
       "</div>"
      ],
      "text/plain": [
       "   -0.967307  -9.036178  -5.037657  -0.526883  -0.259014  -0.390219  \\\n",
       "0  -1.027165  -9.158288  -5.032868  -0.532475  -0.299228  -0.397410   \n",
       "1  -0.821253  -8.988291  -4.987376  -0.560172  -0.151953  -0.334558   \n",
       "2  -1.094206  -9.182231  -4.977799  -0.522888  -0.228121  -0.380099   \n",
       "3  -1.084629  -9.285188  -4.688086  -0.545259  -0.332518  -0.407263   \n",
       "4  -1.031954  -9.096036  -4.996953  -0.527948  -0.264340  -0.374240   \n",
       "\n",
       "   -35.787967    42.7695  6.327892  1  \n",
       "0  -35.259078  41.882167  6.156868  1  \n",
       "1  -33.672420  42.414566  5.985844  1  \n",
       "2  -36.316852  42.592033  5.814820  1  \n",
       "3  -35.611671  42.946968  6.156868  1  \n",
       "4  -36.316852  42.237102  5.814820  1  "
      ]
     },
     "execution_count": 119,
     "metadata": {},
     "output_type": "execute_result"
    }
   ],
   "source": [
    "imu_data.head()"
   ]
  },
  {
   "cell_type": "code",
   "execution_count": 120,
   "metadata": {},
   "outputs": [],
   "source": [
    "imu_shuffle_data = shuffle(imu_data)"
   ]
  },
  {
   "cell_type": "code",
   "execution_count": 121,
   "metadata": {},
   "outputs": [
    {
     "data": {
      "text/html": [
       "<div>\n",
       "<style scoped>\n",
       "    .dataframe tbody tr th:only-of-type {\n",
       "        vertical-align: middle;\n",
       "    }\n",
       "\n",
       "    .dataframe tbody tr th {\n",
       "        vertical-align: top;\n",
       "    }\n",
       "\n",
       "    .dataframe thead th {\n",
       "        text-align: right;\n",
       "    }\n",
       "</style>\n",
       "<table border=\"1\" class=\"dataframe\">\n",
       "  <thead>\n",
       "    <tr style=\"text-align: right;\">\n",
       "      <th></th>\n",
       "      <th>-0.967307</th>\n",
       "      <th>-9.036178</th>\n",
       "      <th>-5.037657</th>\n",
       "      <th>-0.526883</th>\n",
       "      <th>-0.259014</th>\n",
       "      <th>-0.390219</th>\n",
       "      <th>-35.787967</th>\n",
       "      <th>42.7695</th>\n",
       "      <th>6.327892</th>\n",
       "      <th>1</th>\n",
       "    </tr>\n",
       "  </thead>\n",
       "  <tbody>\n",
       "    <tr>\n",
       "      <th>927</th>\n",
       "      <td>-9.550958</td>\n",
       "      <td>-1.189979</td>\n",
       "      <td>-2.734318</td>\n",
       "      <td>0.123812</td>\n",
       "      <td>0.098058</td>\n",
       "      <td>0.129626</td>\n",
       "      <td>8.109589</td>\n",
       "      <td>54.659778</td>\n",
       "      <td>1.026145</td>\n",
       "      <td>4</td>\n",
       "    </tr>\n",
       "    <tr>\n",
       "      <th>496</th>\n",
       "      <td>1.101389</td>\n",
       "      <td>9.325891</td>\n",
       "      <td>-5.808629</td>\n",
       "      <td>-0.049505</td>\n",
       "      <td>-0.038361</td>\n",
       "      <td>0.406652</td>\n",
       "      <td>20.273971</td>\n",
       "      <td>4.436670</td>\n",
       "      <td>8.038134</td>\n",
       "      <td>2</td>\n",
       "    </tr>\n",
       "    <tr>\n",
       "      <th>471</th>\n",
       "      <td>0.885900</td>\n",
       "      <td>9.419270</td>\n",
       "      <td>-5.820601</td>\n",
       "      <td>-0.066017</td>\n",
       "      <td>-0.107338</td>\n",
       "      <td>0.417571</td>\n",
       "      <td>19.921380</td>\n",
       "      <td>4.081737</td>\n",
       "      <td>10.432472</td>\n",
       "      <td>2</td>\n",
       "    </tr>\n",
       "    <tr>\n",
       "      <th>959</th>\n",
       "      <td>-9.907711</td>\n",
       "      <td>-0.835619</td>\n",
       "      <td>-2.288974</td>\n",
       "      <td>0.178940</td>\n",
       "      <td>0.079415</td>\n",
       "      <td>0.118973</td>\n",
       "      <td>8.638475</td>\n",
       "      <td>52.352710</td>\n",
       "      <td>-1.197169</td>\n",
       "      <td>4</td>\n",
       "    </tr>\n",
       "    <tr>\n",
       "      <th>47</th>\n",
       "      <td>-1.039137</td>\n",
       "      <td>-9.081670</td>\n",
       "      <td>-4.917941</td>\n",
       "      <td>-0.511436</td>\n",
       "      <td>-0.241437</td>\n",
       "      <td>-0.380099</td>\n",
       "      <td>-35.964260</td>\n",
       "      <td>42.592033</td>\n",
       "      <td>6.156868</td>\n",
       "      <td>1</td>\n",
       "    </tr>\n",
       "  </tbody>\n",
       "</table>\n",
       "</div>"
      ],
      "text/plain": [
       "     -0.967307  -9.036178  -5.037657  -0.526883  -0.259014  -0.390219  \\\n",
       "927  -9.550958  -1.189979  -2.734318   0.123812   0.098058   0.129626   \n",
       "496   1.101389   9.325891  -5.808629  -0.049505  -0.038361   0.406652   \n",
       "471   0.885900   9.419270  -5.820601  -0.066017  -0.107338   0.417571   \n",
       "959  -9.907711  -0.835619  -2.288974   0.178940   0.079415   0.118973   \n",
       "47   -1.039137  -9.081670  -4.917941  -0.511436  -0.241437  -0.380099   \n",
       "\n",
       "     -35.787967    42.7695   6.327892  1  \n",
       "927    8.109589  54.659778   1.026145  4  \n",
       "496   20.273971   4.436670   8.038134  2  \n",
       "471   19.921380   4.081737  10.432472  2  \n",
       "959    8.638475  52.352710  -1.197169  4  \n",
       "47   -35.964260  42.592033   6.156868  1  "
      ]
     },
     "execution_count": 121,
     "metadata": {},
     "output_type": "execute_result"
    }
   ],
   "source": [
    "imu_shuffle_data.head()"
   ]
  },
  {
   "cell_type": "code",
   "execution_count": 122,
   "metadata": {},
   "outputs": [
    {
     "name": "stdout",
     "output_type": "stream",
     "text": [
      "Dataset Lenght:: 1500\n",
      "Dataset Shape:: (1500, 10)\n"
     ]
    }
   ],
   "source": [
    "print (\"Dataset Lenght:: \"+ str(len(imu_shuffle_data)))\n",
    "print (\"Dataset Shape:: \"+str(imu_shuffle_data.shape))"
   ]
  },
  {
   "cell_type": "code",
   "execution_count": 123,
   "metadata": {},
   "outputs": [],
   "source": [
    "X = imu_shuffle_data.values[:,0:9]\n",
    "Y = imu_shuffle_data.values[:,-1]"
   ]
  },
  {
   "cell_type": "code",
   "execution_count": 124,
   "metadata": {},
   "outputs": [],
   "source": [
    "X_train, X_test, y_train, y_test = train_test_split( X, Y, test_size = 0.3, random_state = 100)"
   ]
  },
  {
   "cell_type": "code",
   "execution_count": 125,
   "metadata": {},
   "outputs": [
    {
     "data": {
      "text/plain": [
       "DecisionTreeClassifier(class_weight=None, criterion='gini', max_depth=3,\n",
       "            max_features=None, max_leaf_nodes=None,\n",
       "            min_impurity_decrease=0.0, min_impurity_split=None,\n",
       "            min_samples_leaf=5, min_samples_split=2,\n",
       "            min_weight_fraction_leaf=0.0, presort=False, random_state=100,\n",
       "            splitter='best')"
      ]
     },
     "execution_count": 125,
     "metadata": {},
     "output_type": "execute_result"
    }
   ],
   "source": [
    "clf_gini = DecisionTreeClassifier(criterion = \"gini\", random_state = 100,\n",
    "                               max_depth=3, min_samples_leaf=5)\n",
    "clf_gini.fit(X_train, y_train)"
   ]
  },
  {
   "cell_type": "code",
   "execution_count": 126,
   "metadata": {},
   "outputs": [
    {
     "data": {
      "text/plain": [
       "DecisionTreeClassifier(class_weight=None, criterion='entropy', max_depth=3,\n",
       "            max_features=None, max_leaf_nodes=None,\n",
       "            min_impurity_decrease=0.0, min_impurity_split=None,\n",
       "            min_samples_leaf=5, min_samples_split=2,\n",
       "            min_weight_fraction_leaf=0.0, presort=False, random_state=100,\n",
       "            splitter='best')"
      ]
     },
     "execution_count": 126,
     "metadata": {},
     "output_type": "execute_result"
    }
   ],
   "source": [
    "clf_entropy = DecisionTreeClassifier(criterion = \"entropy\", random_state = 100,\n",
    " max_depth=3, min_samples_leaf=5)\n",
    "clf_entropy.fit(X_train, y_train)"
   ]
  },
  {
   "cell_type": "code",
   "execution_count": 127,
   "metadata": {},
   "outputs": [
    {
     "data": {
      "text/plain": [
       "array([1.])"
      ]
     },
     "execution_count": 127,
     "metadata": {},
     "output_type": "execute_result"
    }
   ],
   "source": [
    "clf_gini.predict([[-1.053502,-9.151105,-4.968222,-0.525817,-0.22892,-0.382496,-35.96426,42.592033,5.81482\n",
    "]])"
   ]
  },
  {
   "cell_type": "code",
   "execution_count": 128,
   "metadata": {},
   "outputs": [
    {
     "data": {
      "text/plain": [
       "array([2., 2., 5., 2., 2., 5., 4., 1., 2., 1., 1., 2., 2., 2., 2., 2., 2.,\n",
       "       5., 2., 5., 2., 2., 1., 2., 4., 2., 2., 5., 5., 2., 2., 2., 1., 2.,\n",
       "       5., 4., 1., 2., 2., 2., 2., 4., 1., 4., 2., 2., 4., 5., 2., 5., 2.,\n",
       "       1., 1., 2., 1., 2., 1., 5., 2., 2., 2., 5., 2., 1., 2., 5., 2., 2.,\n",
       "       4., 1., 5., 5., 2., 4., 2., 2., 2., 2., 2., 4., 5., 2., 4., 2., 1.,\n",
       "       5., 2., 2., 4., 4., 4., 1., 2., 5., 4., 5., 2., 2., 2., 2., 2., 2.,\n",
       "       2., 2., 2., 5., 2., 1., 2., 5., 4., 2., 1., 2., 2., 5., 1., 1., 2.,\n",
       "       2., 2., 2., 2., 2., 1., 2., 2., 2., 2., 4., 2., 2., 4., 2., 2., 2.,\n",
       "       2., 4., 1., 1., 2., 2., 2., 1., 4., 1., 5., 1., 5., 2., 5., 2., 2.,\n",
       "       2., 1., 2., 2., 2., 2., 2., 2., 5., 2., 2., 1., 2., 2., 1., 4., 1.,\n",
       "       2., 4., 1., 5., 4., 5., 4., 2., 4., 5., 2., 2., 5., 5., 2., 1., 5.,\n",
       "       2., 5., 1., 2., 5., 2., 2., 2., 4., 4., 2., 2., 2., 2., 1., 4., 2.,\n",
       "       4., 1., 5., 2., 2., 1., 4., 2., 4., 2., 2., 2., 2., 1., 1., 2., 2.,\n",
       "       2., 2., 2., 1., 2., 5., 2., 2., 4., 1., 2., 2., 2., 2., 1., 4., 2.,\n",
       "       2., 2., 4., 1., 2., 2., 4., 2., 2., 2., 4., 5., 2., 5., 2., 2., 5.,\n",
       "       2., 2., 1., 2., 2., 1., 2., 2., 5., 2., 2., 2., 4., 5., 1., 2., 5.,\n",
       "       4., 2., 2., 2., 1., 5., 2., 2., 2., 2., 5., 4., 1., 4., 2., 2., 2.,\n",
       "       1., 4., 2., 4., 1., 4., 4., 2., 2., 2., 5., 1., 1., 2., 5., 2., 2.,\n",
       "       1., 2., 4., 4., 5., 5., 2., 4., 2., 2., 5., 2., 2., 4., 2., 1., 2.,\n",
       "       2., 5., 2., 5., 1., 4., 4., 5., 4., 2., 4., 4., 1., 2., 2., 1., 2.,\n",
       "       4., 4., 2., 4., 2., 2., 2., 5., 2., 2., 2., 1., 2., 2., 5., 4., 2.,\n",
       "       1., 1., 4., 5., 1., 2., 2., 2., 4., 2., 2., 2., 1., 2., 2., 2., 2.,\n",
       "       2., 2., 2., 2., 5., 2., 4., 5., 2., 2., 2., 1., 2., 2., 2., 4., 2.,\n",
       "       5., 4., 2., 4., 2., 2., 2., 1., 2., 5., 5., 1., 4., 2., 2., 4., 1.,\n",
       "       2., 2., 2., 5., 5., 5., 1., 1., 1., 2., 2., 1., 1., 5., 5., 2., 1.,\n",
       "       2., 2., 4., 1., 2., 1., 4., 2., 2., 2., 2., 5., 1., 4., 4., 2., 5.,\n",
       "       2., 2., 5., 2., 2., 2., 2., 2.])"
      ]
     },
     "execution_count": 128,
     "metadata": {},
     "output_type": "execute_result"
    }
   ],
   "source": [
    "y_pred = clf_gini.predict(X_test)\n",
    "y_pred"
   ]
  },
  {
   "cell_type": "code",
   "execution_count": 129,
   "metadata": {},
   "outputs": [
    {
     "data": {
      "text/plain": [
       "array([6., 3., 5., 3., 3., 5., 4., 1., 2., 1., 1., 6., 3., 6., 3., 3., 3.,\n",
       "       5., 2., 5., 2., 6., 1., 2., 4., 3., 2., 5., 5., 6., 6., 6., 1., 6.,\n",
       "       5., 4., 1., 6., 2., 6., 2., 4., 1., 4., 2., 3., 4., 5., 3., 5., 3.,\n",
       "       1., 1., 6., 1., 2., 1., 5., 2., 2., 3., 5., 6., 1., 3., 5., 3., 6.,\n",
       "       4., 1., 5., 5., 2., 4., 2., 6., 6., 6., 2., 4., 5., 2., 4., 6., 1.,\n",
       "       5., 3., 3., 4., 4., 4., 1., 3., 5., 4., 5., 2., 3., 2., 6., 3., 3.,\n",
       "       2., 2., 2., 5., 3., 1., 2., 5., 4., 6., 1., 2., 6., 5., 1., 1., 3.,\n",
       "       3., 6., 3., 6., 6., 1., 2., 6., 6., 2., 4., 6., 2., 4., 6., 6., 6.,\n",
       "       6., 4., 1., 1., 6., 2., 2., 1., 4., 1., 5., 1., 5., 2., 5., 2., 6.,\n",
       "       3., 1., 3., 3., 6., 3., 2., 3., 5., 3., 2., 1., 2., 6., 1., 4., 1.,\n",
       "       6., 4., 1., 5., 4., 5., 4., 3., 4., 5., 6., 3., 5., 5., 2., 1., 5.,\n",
       "       2., 5., 1., 6., 5., 2., 3., 2., 4., 4., 2., 2., 6., 6., 1., 4., 3.,\n",
       "       4., 1., 5., 2., 3., 1., 4., 3., 4., 2., 2., 3., 2., 1., 1., 6., 3.,\n",
       "       3., 2., 6., 1., 6., 5., 2., 2., 4., 1., 2., 6., 6., 6., 1., 4., 6.,\n",
       "       6., 6., 4., 1., 6., 3., 4., 3., 2., 6., 4., 5., 2., 5., 6., 2., 5.,\n",
       "       6., 2., 2., 6., 3., 1., 3., 3., 5., 1., 6., 3., 4., 5., 1., 3., 5.,\n",
       "       4., 3., 2., 3., 1., 5., 6., 6., 2., 3., 5., 4., 1., 4., 2., 2., 6.,\n",
       "       1., 4., 6., 4., 1., 4., 4., 6., 3., 6., 5., 1., 1., 2., 5., 3., 3.,\n",
       "       1., 3., 4., 4., 5., 5., 3., 4., 6., 6., 5., 6., 6., 4., 3., 1., 3.,\n",
       "       6., 5., 3., 5., 1., 4., 4., 5., 4., 3., 4., 4., 1., 6., 6., 1., 2.,\n",
       "       4., 4., 2., 4., 6., 6., 2., 5., 6., 3., 6., 1., 3., 3., 5., 4., 6.,\n",
       "       1., 1., 4., 5., 1., 3., 2., 3., 4., 3., 3., 2., 1., 6., 3., 6., 2.,\n",
       "       6., 2., 6., 3., 5., 2., 4., 5., 3., 6., 3., 1., 2., 6., 3., 4., 3.,\n",
       "       5., 4., 2., 4., 6., 3., 2., 1., 3., 5., 5., 2., 4., 2., 2., 4., 1.,\n",
       "       3., 3., 3., 5., 5., 5., 1., 1., 1., 3., 6., 1., 1., 5., 5., 2., 1.,\n",
       "       2., 3., 4., 1., 3., 1., 4., 3., 2., 3., 2., 5., 1., 4., 4., 3., 5.,\n",
       "       3., 3., 5., 2., 6., 6., 3., 2.])"
      ]
     },
     "execution_count": 129,
     "metadata": {},
     "output_type": "execute_result"
    }
   ],
   "source": [
    "y_pred_en = clf_entropy.predict(X_test)\n",
    "y_pred_en"
   ]
  },
  {
   "cell_type": "code",
   "execution_count": 130,
   "metadata": {},
   "outputs": [
    {
     "name": "stdout",
     "output_type": "stream",
     "text": [
      "Accuracy is 62.22222222222222\n"
     ]
    }
   ],
   "source": [
    "print (\"Accuracy is \"+str( accuracy_score(y_test,y_pred)*100))"
   ]
  },
  {
   "cell_type": "code",
   "execution_count": 131,
   "metadata": {},
   "outputs": [
    {
     "name": "stdout",
     "output_type": "stream",
     "text": [
      "Accuracy is 100.0\n"
     ]
    }
   ],
   "source": [
    "print (\"Accuracy is \"+ str(accuracy_score(y_test,y_pred_en)*100))"
   ]
  },
  {
   "cell_type": "code",
   "execution_count": null,
   "metadata": {},
   "outputs": [],
   "source": []
  }
 ],
 "metadata": {
  "kernelspec": {
   "display_name": "Python 3",
   "language": "python",
   "name": "python3"
  },
  "language_info": {
   "codemirror_mode": {
    "name": "ipython",
    "version": 3
   },
   "file_extension": ".py",
   "mimetype": "text/x-python",
   "name": "python",
   "nbconvert_exporter": "python",
   "pygments_lexer": "ipython3",
   "version": "3.7.1"
  }
 },
 "nbformat": 4,
 "nbformat_minor": 2
}

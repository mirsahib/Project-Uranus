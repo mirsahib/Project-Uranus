{
 "cells": [
  {
   "cell_type": "markdown",
   "metadata": {},
   "source": [
    "<div style=\"text-align:center\"><span style=\"font-family:Georgia; font-size:2em; font-weight:bold\">Classifying hand position using Inertial Measurement Unit</span></div>"
   ]
  },
  {
   "cell_type": "markdown",
   "metadata": {},
   "source": [
    "### Introduction: \n",
    "\n",
    "In this project we present the development and implementation of an Inertial Measurement Unit  device which is used to collect data(accelerometer,gyroscope,magnetometer) from different position of the human hand.\n",
    "\n",
    "### Description:\n",
    "The data of the IMU are collected from both hand at five different position (10 position in total),The position of the hand is shown in Fig 1 and Fig 2.\n",
    "\n",
    "<img width=500 src=\"image/class1_6.jpg\">\n",
    "\n",
    "<center>Fig 1: Subject holding IMU at position 1 to 6</center>\n",
    "\n",
    "\n",
    "<img width=500 src=\"https://github.com/mirsahib/Project-Andromeda/blob/master/image/class1_6.jpg\">\n",
    "\n",
    "<center>Fig 2: Subject holding IMU at position 7 to 10</center>\n",
    "\n",
    "From each position we have collected 250 sets of reading than we label this reading according to their position (eg:for position 1 its 1),then each position dataset is recompile to a larger dataset where every position data are stored.The size of this recompile data set is 1500 by 10.This dataset is then split into 30/70 ratio,30% for testing process and 70% is for training process.We used decision tree to classify those 10 different position and we have found that by using gini index as the decision tree criterion we get 39%  accuracy and by using information gain as the decision tree criterion we get 81% accuracy.\n",
    "### Hardware used:\n",
    "1. MPU 9250 9 axis IMU\n",
    "2. Arduino Nano\n",
    "3. DS 1307 RTC module\n",
    "4. Micro SD Car\n",
    "\n",
    "<img width=300 src=\"image/hardware.jpg\">\n",
    "\n",
    "### Hardware Description: \n",
    "The device is assembled according to the given image Fig 2.The MPU 9250(IMU) send 3 set of data to arduino nano from 3 sensors,The sensors are accelerometer,gyroscope and magnetometer.The DS 1307 rtc is a real time clock module which give the time stamp for each reading.This reading is collected by arduino nano and write it in a csv file using the micro sd card module.\n",
    "\n",
    "### Data collection and preprocessing:\n",
    "We have collected 10 set of data (350+ reading) by holding the hand at 10 different  position (**shown in Fig:1 & 2)**.We have discarded 50 reading from the top and 50 reading from the bottom because those reading contain the most noise (the hand is not stationary).The x,y and z axis of the accelerometer,gyroscope and magnetometer is the feature of this problem.We don’t consider timestamp(rtc reading) as the feature of this problem.We have label each of this reading according to their positional value and recompile into a larger data set (dataset.csv).This large data set is then split into 30/70 ratio,30% as training data and 70% as testing data.Before splitting the data we have shuffle the row so that each part(training and testing) get fair number of classes.\n",
    "### Decision Tree:\n",
    "We have modeled our decision tree into two classifiers,One classifier with gini index and another one is with information gain as the criterion.For both of the classifier we use max_depth= 3 , min_sample_leaf=5 and a random_state=100.Using gini index as the criterion we get 39% accuracy and 81% accuracy when we used information gain as the criterion.\n",
    "\n",
    "###Dataset :"
   ]
  },
  {
   "cell_type": "code",
   "execution_count": 4,
   "metadata": {},
   "outputs": [],
   "source": [
    "import numpy as np\n",
    "import pandas as pd\n",
    "from sklearn.model_selection import train_test_split\n",
    "from sklearn.tree import DecisionTreeClassifier\n",
    "from sklearn.metrics import accuracy_score\n",
    "from sklearn.utils import shuffle\n",
    "from sklearn import tree"
   ]
  },
  {
   "cell_type": "code",
   "execution_count": 5,
   "metadata": {},
   "outputs": [],
   "source": [
    "imu_data = pd.read_csv(\"Dataset/Dataset.csv\")"
   ]
  },
  {
   "cell_type": "code",
   "execution_count": 6,
   "metadata": {},
   "outputs": [
    {
     "data": {
      "text/html": [
       "<div>\n",
       "<style scoped>\n",
       "    .dataframe tbody tr th:only-of-type {\n",
       "        vertical-align: middle;\n",
       "    }\n",
       "\n",
       "    .dataframe tbody tr th {\n",
       "        vertical-align: top;\n",
       "    }\n",
       "\n",
       "    .dataframe thead th {\n",
       "        text-align: right;\n",
       "    }\n",
       "</style>\n",
       "<table border=\"1\" class=\"dataframe\">\n",
       "  <thead>\n",
       "    <tr style=\"text-align: right;\">\n",
       "      <th></th>\n",
       "      <th>1.374342</th>\n",
       "      <th>-9.06491</th>\n",
       "      <th>-5.224414</th>\n",
       "      <th>-0.324076</th>\n",
       "      <th>0.16569</th>\n",
       "      <th>0.282479</th>\n",
       "      <th>-3.702203</th>\n",
       "      <th>32.476425</th>\n",
       "      <th>36.428134</th>\n",
       "      <th>1</th>\n",
       "    </tr>\n",
       "  </thead>\n",
       "  <tbody>\n",
       "    <tr>\n",
       "      <th>0</th>\n",
       "      <td>1.324061</td>\n",
       "      <td>-9.108008</td>\n",
       "      <td>-4.994559</td>\n",
       "      <td>-0.350175</td>\n",
       "      <td>0.112426</td>\n",
       "      <td>0.269429</td>\n",
       "      <td>-4.936271</td>\n",
       "      <td>33.363761</td>\n",
       "      <td>37.625305</td>\n",
       "      <td>1</td>\n",
       "    </tr>\n",
       "    <tr>\n",
       "      <th>1</th>\n",
       "      <td>1.422228</td>\n",
       "      <td>-9.153500</td>\n",
       "      <td>-5.025685</td>\n",
       "      <td>-0.342185</td>\n",
       "      <td>0.121214</td>\n",
       "      <td>0.268098</td>\n",
       "      <td>-4.054794</td>\n",
       "      <td>32.831359</td>\n",
       "      <td>36.086086</td>\n",
       "      <td>1</td>\n",
       "    </tr>\n",
       "    <tr>\n",
       "      <th>2</th>\n",
       "      <td>1.388708</td>\n",
       "      <td>-9.036178</td>\n",
       "      <td>-5.114275</td>\n",
       "      <td>-0.361893</td>\n",
       "      <td>0.098843</td>\n",
       "      <td>0.250254</td>\n",
       "      <td>-4.759976</td>\n",
       "      <td>33.896160</td>\n",
       "      <td>36.428134</td>\n",
       "      <td>1</td>\n",
       "    </tr>\n",
       "    <tr>\n",
       "      <th>3</th>\n",
       "      <td>1.297723</td>\n",
       "      <td>-9.167866</td>\n",
       "      <td>-5.006531</td>\n",
       "      <td>-0.351240</td>\n",
       "      <td>0.077005</td>\n",
       "      <td>0.260907</td>\n",
       "      <td>-5.465157</td>\n",
       "      <td>33.896160</td>\n",
       "      <td>34.375846</td>\n",
       "      <td>1</td>\n",
       "    </tr>\n",
       "    <tr>\n",
       "      <th>4</th>\n",
       "      <td>1.288146</td>\n",
       "      <td>-9.160683</td>\n",
       "      <td>-5.104698</td>\n",
       "      <td>-0.337658</td>\n",
       "      <td>0.100441</td>\n",
       "      <td>0.242531</td>\n",
       "      <td>-4.054794</td>\n",
       "      <td>33.896160</td>\n",
       "      <td>37.112232</td>\n",
       "      <td>1</td>\n",
       "    </tr>\n",
       "  </tbody>\n",
       "</table>\n",
       "</div>"
      ],
      "text/plain": [
       "   1.374342  -9.06491  -5.224414  -0.324076   0.16569  0.282479  -3.702203  \\\n",
       "0  1.324061 -9.108008  -4.994559  -0.350175  0.112426  0.269429  -4.936271   \n",
       "1  1.422228 -9.153500  -5.025685  -0.342185  0.121214  0.268098  -4.054794   \n",
       "2  1.388708 -9.036178  -5.114275  -0.361893  0.098843  0.250254  -4.759976   \n",
       "3  1.297723 -9.167866  -5.006531  -0.351240  0.077005  0.260907  -5.465157   \n",
       "4  1.288146 -9.160683  -5.104698  -0.337658  0.100441  0.242531  -4.054794   \n",
       "\n",
       "   32.476425  36.428134  1  \n",
       "0  33.363761  37.625305  1  \n",
       "1  32.831359  36.086086  1  \n",
       "2  33.896160  36.428134  1  \n",
       "3  33.896160  34.375846  1  \n",
       "4  33.896160  37.112232  1  "
      ]
     },
     "execution_count": 6,
     "metadata": {},
     "output_type": "execute_result"
    }
   ],
   "source": [
    "imu_data.head()"
   ]
  },
  {
   "cell_type": "code",
   "execution_count": 7,
   "metadata": {},
   "outputs": [],
   "source": [
    "imu_shuffle_data = shuffle(imu_data)"
   ]
  },
  {
   "cell_type": "markdown",
   "metadata": {},
   "source": [
    "#### Sample Dataset"
   ]
  },
  {
   "cell_type": "code",
   "execution_count": 8,
   "metadata": {},
   "outputs": [
    {
     "data": {
      "text/html": [
       "<div>\n",
       "<style scoped>\n",
       "    .dataframe tbody tr th:only-of-type {\n",
       "        vertical-align: middle;\n",
       "    }\n",
       "\n",
       "    .dataframe tbody tr th {\n",
       "        vertical-align: top;\n",
       "    }\n",
       "\n",
       "    .dataframe thead th {\n",
       "        text-align: right;\n",
       "    }\n",
       "</style>\n",
       "<table border=\"1\" class=\"dataframe\">\n",
       "  <thead>\n",
       "    <tr style=\"text-align: right;\">\n",
       "      <th></th>\n",
       "      <th>1.374342</th>\n",
       "      <th>-9.06491</th>\n",
       "      <th>-5.224414</th>\n",
       "      <th>-0.324076</th>\n",
       "      <th>0.16569</th>\n",
       "      <th>0.282479</th>\n",
       "      <th>-3.702203</th>\n",
       "      <th>32.476425</th>\n",
       "      <th>36.428134</th>\n",
       "      <th>1</th>\n",
       "    </tr>\n",
       "  </thead>\n",
       "  <tbody>\n",
       "    <tr>\n",
       "      <th>1906</th>\n",
       "      <td>-0.179574</td>\n",
       "      <td>9.864614</td>\n",
       "      <td>-0.486048</td>\n",
       "      <td>0.417927</td>\n",
       "      <td>-0.052835</td>\n",
       "      <td>-0.004591</td>\n",
       "      <td>17.982130</td>\n",
       "      <td>11.712810</td>\n",
       "      <td>-26.337713</td>\n",
       "      <td>8</td>\n",
       "    </tr>\n",
       "    <tr>\n",
       "      <th>1466</th>\n",
       "      <td>-2.988116</td>\n",
       "      <td>-8.631537</td>\n",
       "      <td>0.663228</td>\n",
       "      <td>0.441876</td>\n",
       "      <td>0.232852</td>\n",
       "      <td>-0.243125</td>\n",
       "      <td>-30.322809</td>\n",
       "      <td>47.916038</td>\n",
       "      <td>0.342048</td>\n",
       "      <td>6</td>\n",
       "    </tr>\n",
       "    <tr>\n",
       "      <th>975</th>\n",
       "      <td>-9.455184</td>\n",
       "      <td>0.126899</td>\n",
       "      <td>-2.921075</td>\n",
       "      <td>0.696325</td>\n",
       "      <td>0.242294</td>\n",
       "      <td>0.750124</td>\n",
       "      <td>11.988087</td>\n",
       "      <td>52.175243</td>\n",
       "      <td>-9.577351</td>\n",
       "      <td>4</td>\n",
       "    </tr>\n",
       "    <tr>\n",
       "      <th>870</th>\n",
       "      <td>-9.474339</td>\n",
       "      <td>0.366332</td>\n",
       "      <td>-2.602630</td>\n",
       "      <td>0.605776</td>\n",
       "      <td>0.244691</td>\n",
       "      <td>0.789806</td>\n",
       "      <td>11.282906</td>\n",
       "      <td>51.465373</td>\n",
       "      <td>-9.235302</td>\n",
       "      <td>4</td>\n",
       "    </tr>\n",
       "    <tr>\n",
       "      <th>2167</th>\n",
       "      <td>-6.567630</td>\n",
       "      <td>7.115930</td>\n",
       "      <td>-0.440556</td>\n",
       "      <td>-0.809067</td>\n",
       "      <td>0.661647</td>\n",
       "      <td>-0.320945</td>\n",
       "      <td>26.091718</td>\n",
       "      <td>27.329889</td>\n",
       "      <td>10.945544</td>\n",
       "      <td>9</td>\n",
       "    </tr>\n",
       "  </tbody>\n",
       "</table>\n",
       "</div>"
      ],
      "text/plain": [
       "      1.374342  -9.06491  -5.224414  -0.324076   0.16569  0.282479  -3.702203  \\\n",
       "1906 -0.179574  9.864614  -0.486048   0.417927 -0.052835 -0.004591  17.982130   \n",
       "1466 -2.988116 -8.631537   0.663228   0.441876  0.232852 -0.243125 -30.322809   \n",
       "975  -9.455184  0.126899  -2.921075   0.696325  0.242294  0.750124  11.988087   \n",
       "870  -9.474339  0.366332  -2.602630   0.605776  0.244691  0.789806  11.282906   \n",
       "2167 -6.567630  7.115930  -0.440556  -0.809067  0.661647 -0.320945  26.091718   \n",
       "\n",
       "      32.476425  36.428134  1  \n",
       "1906  11.712810 -26.337713  8  \n",
       "1466  47.916038   0.342048  6  \n",
       "975   52.175243  -9.577351  4  \n",
       "870   51.465373  -9.235302  4  \n",
       "2167  27.329889  10.945544  9  "
      ]
     },
     "execution_count": 8,
     "metadata": {},
     "output_type": "execute_result"
    }
   ],
   "source": [
    "imu_shuffle_data.head()"
   ]
  },
  {
   "cell_type": "code",
   "execution_count": 9,
   "metadata": {},
   "outputs": [
    {
     "name": "stdout",
     "output_type": "stream",
     "text": [
      "Dataset Lenght:: 2409\n",
      "Dataset Shape:: (2409, 10)\n"
     ]
    }
   ],
   "source": [
    "print (\"Dataset Lenght:: \"+ str(len(imu_shuffle_data)))\n",
    "print (\"Dataset Shape:: \"+str(imu_shuffle_data.shape))"
   ]
  },
  {
   "cell_type": "markdown",
   "metadata": {},
   "source": [
    "### seperating label column and feature colum"
   ]
  },
  {
   "cell_type": "code",
   "execution_count": 10,
   "metadata": {},
   "outputs": [],
   "source": [
    "X = imu_shuffle_data.values[:,0:9]\n",
    "Y = imu_shuffle_data.values[:,-1]"
   ]
  },
  {
   "cell_type": "markdown",
   "metadata": {},
   "source": [
    "### Splitting test data and training data"
   ]
  },
  {
   "cell_type": "code",
   "execution_count": 11,
   "metadata": {},
   "outputs": [],
   "source": [
    "X_train, X_test, y_train, y_test = train_test_split( X, Y, test_size = 0.3, random_state = 100)"
   ]
  },
  {
   "cell_type": "markdown",
   "metadata": {},
   "source": [
    "### Decision tree classifier with gini index as criterion"
   ]
  },
  {
   "cell_type": "code",
   "execution_count": 12,
   "metadata": {},
   "outputs": [
    {
     "data": {
      "text/plain": [
       "DecisionTreeClassifier(class_weight=None, criterion='gini', max_depth=3,\n",
       "            max_features=None, max_leaf_nodes=None,\n",
       "            min_impurity_decrease=0.0, min_impurity_split=None,\n",
       "            min_samples_leaf=5, min_samples_split=2,\n",
       "            min_weight_fraction_leaf=0.0, presort=False, random_state=100,\n",
       "            splitter='best')"
      ]
     },
     "execution_count": 12,
     "metadata": {},
     "output_type": "execute_result"
    }
   ],
   "source": [
    "clf_gini = DecisionTreeClassifier(criterion = \"gini\", random_state = 100,\n",
    "                               max_depth=3, min_samples_leaf=5)\n",
    "clf_gini.fit(X_train, y_train)"
   ]
  },
  {
   "cell_type": "markdown",
   "metadata": {},
   "source": [
    "### Decision tree classifier with information gain as criterion"
   ]
  },
  {
   "cell_type": "code",
   "execution_count": 13,
   "metadata": {},
   "outputs": [
    {
     "data": {
      "text/plain": [
       "DecisionTreeClassifier(class_weight=None, criterion='entropy', max_depth=3,\n",
       "            max_features=None, max_leaf_nodes=None,\n",
       "            min_impurity_decrease=0.0, min_impurity_split=None,\n",
       "            min_samples_leaf=5, min_samples_split=2,\n",
       "            min_weight_fraction_leaf=0.0, presort=False, random_state=100,\n",
       "            splitter='best')"
      ]
     },
     "execution_count": 13,
     "metadata": {},
     "output_type": "execute_result"
    }
   ],
   "source": [
    "clf_entropy = DecisionTreeClassifier(criterion = \"entropy\", random_state = 100,\n",
    " max_depth=3, min_samples_leaf=5)\n",
    "clf_entropy.fit(X_train, y_train)"
   ]
  },
  {
   "cell_type": "markdown",
   "metadata": {},
   "source": [
    "### Sample prediction result"
   ]
  },
  {
   "cell_type": "code",
   "execution_count": 14,
   "metadata": {},
   "outputs": [
    {
     "data": {
      "text/plain": [
       "array([7.])"
      ]
     },
     "execution_count": 14,
     "metadata": {},
     "output_type": "execute_result"
    }
   ],
   "source": [
    "clf_gini.predict([[-1.053502,-9.151105,-4.968222,-0.525817,-0.22892,-0.382496,-35.96426,42.592033,5.81482\n",
    "]])"
   ]
  },
  {
   "cell_type": "markdown",
   "metadata": {},
   "source": [
    "### prediction using gini index as criterion"
   ]
  },
  {
   "cell_type": "code",
   "execution_count": 15,
   "metadata": {},
   "outputs": [
    {
     "data": {
      "text/plain": [
       "array([3., 1., 7., 3., 2., 3., 3., 3., 2., 7., 3., 3., 7., 7., 2., 3., 3.,\n",
       "       3., 3., 1., 3., 3., 3., 3., 3., 7., 7., 3., 3., 1., 3., 7., 3., 3.,\n",
       "       3., 3., 3., 3., 7., 7., 3., 3., 3., 7., 3., 3., 2., 3., 3., 3., 3.,\n",
       "       7., 7., 2., 3., 3., 2., 7., 7., 3., 1., 3., 3., 3., 1., 2., 3., 3.,\n",
       "       1., 2., 3., 3., 2., 3., 3., 2., 7., 7., 3., 3., 1., 1., 3., 2., 3.,\n",
       "       3., 3., 2., 1., 7., 3., 7., 2., 3., 3., 7., 1., 7., 3., 7., 3., 7.,\n",
       "       3., 7., 3., 3., 7., 3., 1., 2., 7., 3., 1., 3., 7., 3., 7., 7., 7.,\n",
       "       1., 1., 3., 7., 3., 3., 1., 3., 3., 3., 7., 3., 1., 1., 2., 3., 3.,\n",
       "       3., 7., 3., 3., 3., 2., 7., 3., 2., 3., 3., 3., 2., 3., 3., 3., 2.,\n",
       "       3., 3., 3., 1., 3., 1., 1., 1., 3., 2., 3., 3., 3., 2., 2., 7., 3.,\n",
       "       3., 3., 3., 3., 3., 3., 3., 2., 3., 3., 3., 1., 3., 3., 7., 3., 7.,\n",
       "       3., 1., 3., 3., 7., 7., 3., 3., 3., 3., 3., 3., 3., 3., 3., 7., 3.,\n",
       "       7., 3., 3., 1., 3., 3., 3., 3., 7., 1., 3., 1., 2., 3., 3., 1., 3.,\n",
       "       7., 1., 3., 3., 3., 2., 3., 3., 3., 2., 7., 7., 3., 7., 3., 7., 3.,\n",
       "       7., 3., 3., 3., 3., 7., 3., 3., 3., 7., 3., 3., 3., 7., 7., 2., 7.,\n",
       "       3., 3., 7., 1., 3., 3., 7., 3., 3., 3., 7., 1., 7., 7., 3., 3., 7.,\n",
       "       7., 7., 3., 1., 2., 3., 7., 3., 3., 3., 7., 7., 3., 3., 3., 7., 3.,\n",
       "       3., 3., 3., 3., 3., 3., 1., 3., 3., 2., 1., 3., 3., 3., 3., 1., 2.,\n",
       "       7., 3., 2., 1., 3., 2., 7., 7., 3., 3., 3., 7., 3., 3., 3., 3., 7.,\n",
       "       1., 3., 3., 7., 3., 3., 7., 3., 3., 1., 7., 1., 3., 3., 3., 7., 7.,\n",
       "       3., 3., 7., 2., 7., 3., 3., 3., 3., 3., 7., 1., 3., 1., 3., 3., 3.,\n",
       "       3., 3., 3., 3., 3., 3., 3., 3., 7., 1., 2., 3., 7., 3., 1., 3., 3.,\n",
       "       2., 3., 7., 3., 7., 3., 3., 3., 7., 3., 3., 3., 3., 7., 3., 2., 3.,\n",
       "       3., 3., 2., 7., 3., 3., 1., 3., 3., 7., 3., 3., 7., 3., 3., 3., 3.,\n",
       "       2., 7., 7., 3., 1., 3., 2., 3., 3., 2., 1., 3., 3., 2., 3., 3., 7.,\n",
       "       7., 3., 3., 3., 7., 3., 7., 1., 2., 1., 3., 1., 3., 3., 3., 1., 7.,\n",
       "       3., 7., 2., 3., 7., 7., 7., 3., 7., 1., 3., 3., 3., 3., 3., 1., 7.,\n",
       "       3., 3., 3., 3., 3., 3., 3., 3., 3., 3., 3., 1., 3., 3., 3., 7., 1.,\n",
       "       2., 2., 7., 3., 3., 7., 2., 1., 3., 3., 3., 3., 3., 3., 3., 1., 3.,\n",
       "       7., 2., 3., 3., 3., 3., 3., 7., 3., 3., 3., 2., 7., 7., 3., 3., 3.,\n",
       "       3., 3., 3., 7., 7., 7., 2., 3., 3., 3., 3., 3., 2., 3., 7., 3., 2.,\n",
       "       3., 3., 3., 2., 3., 2., 3., 3., 3., 3., 3., 1., 7., 3., 2., 3., 3.,\n",
       "       3., 1., 3., 1., 2., 3., 3., 3., 3., 3., 3., 7., 3., 7., 7., 7., 1.,\n",
       "       3., 1., 1., 3., 7., 3., 3., 3., 7., 7., 2., 7., 3., 3., 7., 3., 3.,\n",
       "       7., 7., 3., 3., 1., 3., 1., 3., 2., 3., 3., 7., 7., 7., 3., 1., 7.,\n",
       "       3., 3., 3., 3., 7., 7., 3., 3., 3., 3., 3., 7., 3., 7., 3., 3., 7.,\n",
       "       1., 3., 3., 3., 7., 1., 7., 2., 7., 3., 7., 7., 3., 3., 3., 7., 3.,\n",
       "       3., 3., 3., 3., 7., 3., 3., 2., 3., 3., 2., 3., 1., 3., 3., 2., 3.,\n",
       "       7., 7., 3., 3., 1., 7., 3., 3., 3., 1., 3., 3., 3., 7., 3., 7., 3.,\n",
       "       7., 7., 3., 2., 3., 3., 3., 7., 1., 3., 7., 3., 3., 3., 2., 3., 2.,\n",
       "       3., 7., 3., 3., 7., 3., 3., 2., 3., 3., 3., 3., 3., 7., 7., 3., 2.,\n",
       "       3., 7., 3., 7., 7., 3., 2., 2., 3., 3., 3., 3., 1., 7., 3., 1., 7.,\n",
       "       3., 1., 3., 7., 3., 3., 2., 3., 3.])"
      ]
     },
     "execution_count": 15,
     "metadata": {},
     "output_type": "execute_result"
    }
   ],
   "source": [
    "y_pred = clf_gini.predict(X_test)\n",
    "y_pred"
   ]
  },
  {
   "cell_type": "markdown",
   "metadata": {},
   "source": [
    "### Prediction usin Information gain as criterion"
   ]
  },
  {
   "cell_type": "code",
   "execution_count": 16,
   "metadata": {},
   "outputs": [
    {
     "data": {
      "text/plain": [
       "array([9., 1., 7., 9., 2., 8., 4., 4., 2., 7., 4., 8., 7., 6., 2., 8., 9.,\n",
       "       9., 9., 1., 8., 4., 9., 8., 3., 7., 7., 9., 3., 1., 8., 7., 9., 8.,\n",
       "       9., 4., 4., 8., 6., 7., 8., 3., 8., 7., 4., 8., 2., 8., 8., 4., 9.,\n",
       "       6., 7., 2., 9., 3., 2., 7., 7., 8., 1., 9., 8., 3., 1., 2., 8., 9.,\n",
       "       1., 2., 4., 8., 2., 8., 4., 2., 7., 7., 4., 9., 1., 1., 8., 2., 9.,\n",
       "       8., 4., 2., 1., 6., 4., 7., 2., 8., 8., 6., 1., 7., 8., 6., 8., 7.,\n",
       "       8., 7., 8., 4., 6., 4., 1., 2., 6., 3., 1., 4., 6., 4., 6., 6., 6.,\n",
       "       1., 1., 8., 7., 8., 8., 1., 3., 3., 9., 6., 8., 1., 1., 2., 4., 8.,\n",
       "       3., 6., 8., 4., 9., 2., 6., 3., 2., 8., 9., 4., 2., 8., 9., 4., 2.,\n",
       "       4., 9., 3., 1., 4., 1., 1., 1., 9., 2., 8., 8., 8., 2., 2., 7., 8.,\n",
       "       4., 4., 4., 4., 8., 3., 9., 2., 8., 4., 4., 1., 8., 9., 7., 8., 6.,\n",
       "       3., 1., 4., 4., 7., 7., 3., 4., 9., 3., 8., 4., 8., 4., 9., 6., 4.,\n",
       "       6., 8., 8., 1., 3., 9., 8., 3., 7., 1., 8., 1., 2., 4., 3., 1., 8.,\n",
       "       6., 1., 9., 9., 4., 2., 3., 3., 4., 2., 6., 6., 4., 7., 4., 6., 4.,\n",
       "       6., 4., 4., 4., 3., 6., 3., 8., 8., 6., 8., 3., 8., 6., 7., 2., 7.,\n",
       "       3., 3., 7., 1., 8., 9., 7., 8., 8., 8., 7., 1., 7., 6., 8., 4., 7.,\n",
       "       6., 6., 3., 1., 2., 4., 7., 4., 9., 8., 7., 7., 8., 8., 8., 7., 9.,\n",
       "       3., 9., 9., 9., 3., 3., 1., 8., 8., 2., 1., 4., 8., 4., 4., 1., 2.,\n",
       "       7., 4., 2., 1., 4., 2., 6., 7., 8., 9., 3., 6., 8., 3., 9., 8., 7.,\n",
       "       1., 4., 9., 6., 9., 4., 7., 8., 9., 1., 6., 1., 8., 4., 4., 6., 6.,\n",
       "       8., 4., 7., 2., 6., 8., 8., 4., 8., 4., 7., 1., 9., 1., 3., 4., 8.,\n",
       "       3., 8., 4., 8., 9., 3., 4., 9., 7., 1., 2., 9., 7., 9., 1., 4., 9.,\n",
       "       2., 4., 6., 3., 7., 8., 9., 9., 7., 8., 4., 8., 8., 7., 3., 2., 3.,\n",
       "       8., 3., 2., 7., 4., 8., 1., 4., 4., 6., 8., 8., 7., 9., 4., 8., 8.,\n",
       "       2., 6., 7., 4., 1., 4., 2., 8., 8., 2., 1., 8., 4., 2., 8., 3., 7.,\n",
       "       6., 8., 8., 9., 6., 4., 7., 1., 2., 1., 8., 1., 4., 8., 9., 1., 7.,\n",
       "       8., 7., 2., 8., 7., 7., 6., 9., 6., 1., 4., 8., 4., 4., 3., 1., 6.,\n",
       "       8., 3., 4., 3., 8., 8., 9., 4., 4., 4., 8., 1., 8., 3., 8., 7., 1.,\n",
       "       2., 2., 7., 4., 8., 6., 2., 1., 4., 4., 4., 3., 8., 8., 8., 1., 9.,\n",
       "       6., 2., 8., 9., 3., 9., 8., 7., 8., 8., 4., 2., 6., 6., 9., 9., 4.,\n",
       "       4., 8., 8., 6., 6., 7., 2., 8., 8., 8., 4., 4., 2., 8., 6., 8., 2.,\n",
       "       8., 3., 9., 2., 8., 2., 8., 8., 4., 8., 4., 1., 7., 8., 2., 4., 4.,\n",
       "       4., 1., 8., 1., 2., 9., 4., 4., 3., 4., 8., 6., 9., 6., 6., 7., 1.,\n",
       "       8., 1., 1., 9., 7., 8., 9., 8., 7., 7., 2., 6., 4., 3., 6., 4., 8.,\n",
       "       6., 6., 8., 4., 1., 3., 1., 4., 2., 4., 8., 6., 6., 7., 8., 1., 6.,\n",
       "       4., 3., 8., 8., 6., 6., 3., 8., 8., 9., 8., 6., 8., 6., 4., 8., 6.,\n",
       "       1., 3., 3., 9., 7., 1., 7., 2., 6., 8., 7., 6., 9., 4., 4., 7., 4.,\n",
       "       4., 3., 8., 4., 7., 3., 9., 2., 3., 9., 2., 8., 1., 4., 3., 2., 9.,\n",
       "       6., 6., 9., 4., 1., 6., 8., 3., 3., 1., 8., 8., 3., 6., 8., 7., 9.,\n",
       "       6., 7., 8., 2., 8., 3., 9., 7., 1., 4., 6., 8., 8., 8., 2., 9., 2.,\n",
       "       9., 7., 8., 4., 6., 8., 4., 2., 9., 4., 4., 8., 4., 6., 7., 4., 2.,\n",
       "       4., 7., 4., 6., 6., 9., 2., 2., 3., 9., 8., 8., 1., 6., 8., 1., 7.,\n",
       "       3., 1., 8., 6., 8., 8., 2., 4., 4.])"
      ]
     },
     "execution_count": 16,
     "metadata": {},
     "output_type": "execute_result"
    }
   ],
   "source": [
    "y_pred_en = clf_entropy.predict(X_test)\n",
    "y_pred_en"
   ]
  },
  {
   "cell_type": "markdown",
   "metadata": {},
   "source": [
    "### Result"
   ]
  },
  {
   "cell_type": "code",
   "execution_count": 17,
   "metadata": {},
   "outputs": [
    {
     "name": "stdout",
     "output_type": "stream",
     "text": [
      "Accuracy is 39.14246196403873\n"
     ]
    }
   ],
   "source": [
    "print (\"Accuracy is \"+str( accuracy_score(y_test,y_pred)*100))"
   ]
  },
  {
   "cell_type": "code",
   "execution_count": 18,
   "metadata": {},
   "outputs": [
    {
     "name": "stdout",
     "output_type": "stream",
     "text": [
      "Accuracy is 82.57261410788381\n"
     ]
    }
   ],
   "source": [
    "print (\"Accuracy is \"+ str(accuracy_score(y_test,y_pred_en)*100))"
   ]
  },
  {
   "cell_type": "markdown",
   "metadata": {},
   "source": [
    "### Confusion matrix using gini index as criterion"
   ]
  },
  {
   "cell_type": "code",
   "execution_count": 20,
   "metadata": {},
   "outputs": [
    {
     "name": "stdout",
     "output_type": "stream",
     "text": [
      "[[73  0  0  0  0  0  0  0  0  0]\n",
      " [ 0 69  0  0  0  0  0  0  0  0]\n",
      " [ 0  0 64  0  0  0  0  0  0  0]\n",
      " [ 0  0 82  0  0  0  0  0  0  0]\n",
      " [ 0  0 82  0  0  0  0  0  0  0]\n",
      " [ 0  0  0  0  0  0 80  0  0  0]\n",
      " [ 0  0  0  0  0  0 77  0  0  0]\n",
      " [ 0  0 80  0  0  0  0  0  0  0]\n",
      " [ 0  0 73  0  0  0  0  0  0  0]\n",
      " [ 0  0 43  0  0  0  0  0  0  0]]\n"
     ]
    }
   ],
   "source": [
    "from sklearn.metrics import confusion_matrix\n",
    "import matplotlib.pyplot as plt\n",
    "labels = [1,2,3,4,5,6,7,8,9,10]\n",
    "cm_gini = confusion_matrix(y_test, y_pred,labels)\n",
    "print(cm_gini)"
   ]
  },
  {
   "cell_type": "code",
   "execution_count": null,
   "metadata": {},
   "outputs": [],
   "source": [
    "fig = plt.figure()\n",
    "ax = fig.add_subplot(111)\n",
    "cax = ax.matshow(cm_gini)\n",
    "plt.title('Confusion matrix using gini index as criterion')\n",
    "fig.colorbar(cax)\n",
    "ax.set_xticklabels([''] + labels)\n",
    "ax.set_yticklabels([''] + labels)\n",
    "plt.xlabel('Predicted')\n",
    "plt.ylabel('True')\n",
    "plt.show()"
   ]
  },
  {
   "cell_type": "markdown",
   "metadata": {},
   "source": [
    "### Confusion matrix using information gain as criterion"
   ]
  },
  {
   "cell_type": "code",
   "execution_count": 21,
   "metadata": {},
   "outputs": [
    {
     "name": "stdout",
     "output_type": "stream",
     "text": [
      "[[73  0  0  0  0  0  0  0  0  0]\n",
      " [ 0 69  0  0  0  0  0  0  0  0]\n",
      " [ 0  0 63  0  0  0  0  0  1  0]\n",
      " [ 0  0  0 82  0  0  0  0  0  0]\n",
      " [ 0  0  0  0  0  0  0 82  0  0]\n",
      " [ 0  0  0  0  0 80  0  0  0  0]\n",
      " [ 0  0  0  0  0  0 77  0  0  0]\n",
      " [ 0  0  0  0  0  0  0 80  0  0]\n",
      " [ 0  0  0  0  0  0  0  0 73  0]\n",
      " [ 0  0  0 41  0  0  0  0  2  0]]\n"
     ]
    }
   ],
   "source": [
    "cm = confusion_matrix(y_test, y_pred_en,labels)\n",
    "print(cm)"
   ]
  },
  {
   "cell_type": "code",
   "execution_count": 22,
   "metadata": {},
   "outputs": [
    {
     "data": {
      "image/png": "[encoded data removed]",
      "text/plain": [
       "<Figure size 432x288 with 2 Axes>"
      ]
     },
     "metadata": {
      "needs_background": "light"
     },
     "output_type": "display_data"
    }
   ],
   "source": [
    "fig = plt.figure()\n",
    "ax = fig.add_subplot(111)\n",
    "cax = ax.matshow(cm)\n",
    "plt.title('Confusion matrix Using Information gain as Criterion')\n",
    "fig.colorbar(cax)\n",
    "ax.set_xticklabels([''] + labels)\n",
    "ax.set_yticklabels([''] + labels)\n",
    "plt.xlabel('Predicted')\n",
    "plt.ylabel('True')\n",
    "plt.show()"
   ]
  },
  {
   "cell_type": "code",
   "execution_count": null,
   "metadata": {},
   "outputs": [],
   "source": []
  }
 ],
 "metadata": {
  "kernelspec": {
   "display_name": "Python 3",
   "language": "python",
   "name": "python3"
  },
  "language_info": {
   "codemirror_mode": {
    "name": "ipython",
    "version": 3
   },
   "file_extension": ".py",
   "mimetype": "text/x-python",
   "name": "python",
   "nbconvert_exporter": "python",
   "pygments_lexer": "ipython3",
   "version": "3.7.1"
  }
 },
 "nbformat": 4,
 "nbformat_minor": 2
}

{
 "cells": [
  {
   "cell_type": "markdown",
   "metadata": {},
   "source": [
    "<div style=\"text-align:center\"><span style=\"font-family:Georgia; font-size:2em; font-weight:bold\">Classifying hand position using Inertial Measurement Unit</span></div>"
   ]
  },
  {
   "cell_type": "markdown",
   "metadata": {},
   "source": [
    "### Introduction: \n",
    "\n",
    "In this project we present the development and implementation of an Inertial Measurement Unit  device which is used to collect data(accelerometer,gyroscope,magnetometer) from different position of the human hand.\n",
    "\n",
    "### Description:\n",
    "The data of the IMU are collected from both hand at five different position (10 position in total),The position of the hand is shown in Fig 1 and Fig 2.\n",
    "\n",
    "<img width=500 src=\"image/class1_6.jpg\">\n",
    "\n",
    "<center>Fig 1: Subject holding IMU at position 1 to 6</center>\n",
    "\n",
    "\n",
    "<img width=500 src=\"image/class7_10.jpg\">\n",
    "\n",
    "<center>Fig 2: Subject holding IMU at position 7 to 10</center>\n",
    "\n",
    "From each position we have collected 250 sets of reading than we label this reading according to their position (eg:for position 1 its 1),then each position dataset is recompile to a larger dataset where every position data are stored.The size of this recompile data set is 1500 by 10.This dataset is then split into 30/70 ratio,30% for testing process and 70% is for training process.We used decision tree to classify those 10 different position and we have found that by using gini index as the decision tree criterion we get 39%  accuracy and by using information gain as the decision tree criterion we get 81% accuracy.\n",
    "### Hardware used:\n",
    "1. MPU 9250 9 axis IMU\n",
    "2. Arduino Nano\n",
    "3. DS 1307 RTC module\n",
    "4. Micro SD Car\n",
    "\n",
    "<img width=300 src=\"image/hardware.jpg\">\n",
    "\n",
    "### Hardware Description: \n",
    "The device is assembled according to the given image Fig 2.The MPU 9250(IMU) send 3 set of data to arduino nano from 3 sensors,The sensors are accelerometer,gyroscope and magnetometer.The DS 1307 rtc is a real time clock module which give the time stamp for each reading.This reading is collected by arduino nano and write it in a csv file using the micro sd card module.\n",
    "\n",
    "### Data collection and preprocessing:\n",
    "We have collected 10 set of data (350+ reading) by holding the hand at 10 different  position (**shown in Fig:1 & 2)**.We have discarded 50 reading from the top and 50 reading from the bottom because those reading contain the most noise (the hand is not stationary).The x,y and z axis of the accelerometer,gyroscope and magnetometer is the feature of this problem.We don’t consider timestamp(rtc reading) as the feature of this problem.We have label each of this reading according to their positional value and recompile into a larger data set (dataset.csv).This large data set is then split into 30/70 ratio,30% as training data and 70% as testing data.Before splitting the data we have shuffle the row so that each part(training and testing) get fair number of classes.\n",
    "### Decision Tree:\n",
    "We have modeled our decision tree into two classifiers,One classifier with gini index and another one is with information gain as the criterion.For both of the classifier we use max_depth= 3 , min_sample_leaf=5 and a random_state=100.Using gini index as the criterion we get 39% accuracy and 81% accuracy when we used information gain as the criterion.\n",
    "\n",
    "###Dataset :"
   ]
  },
  {
   "cell_type": "code",
   "execution_count": 24,
   "metadata": {},
   "outputs": [],
   "source": [
    "import numpy as np\n",
    "import pandas as pd\n",
    "from sklearn.model_selection import train_test_split\n",
    "from sklearn.tree import DecisionTreeClassifier\n",
    "from sklearn.metrics import accuracy_score\n",
    "from sklearn.utils import shuffle\n",
    "from sklearn import tree"
   ]
  },
  {
   "cell_type": "code",
   "execution_count": 25,
   "metadata": {},
   "outputs": [],
   "source": [
    "imu_data = pd.read_csv(\"Dataset/Dataset.csv\")"
   ]
  },
  {
   "cell_type": "code",
   "execution_count": 26,
   "metadata": {},
   "outputs": [
    {
     "data": {
      "text/html": [
       "<div>\n",
       "<style scoped>\n",
       "    .dataframe tbody tr th:only-of-type {\n",
       "        vertical-align: middle;\n",
       "    }\n",
       "\n",
       "    .dataframe tbody tr th {\n",
       "        vertical-align: top;\n",
       "    }\n",
       "\n",
       "    .dataframe thead th {\n",
       "        text-align: right;\n",
       "    }\n",
       "</style>\n",
       "<table border=\"1\" class=\"dataframe\">\n",
       "  <thead>\n",
       "    <tr style=\"text-align: right;\">\n",
       "      <th></th>\n",
       "      <th>1.374342</th>\n",
       "      <th>-9.06491</th>\n",
       "      <th>-5.224414</th>\n",
       "      <th>-0.324076</th>\n",
       "      <th>0.16569</th>\n",
       "      <th>0.282479</th>\n",
       "      <th>-3.702203</th>\n",
       "      <th>32.476425</th>\n",
       "      <th>36.428134</th>\n",
       "      <th>1</th>\n",
       "    </tr>\n",
       "  </thead>\n",
       "  <tbody>\n",
       "    <tr>\n",
       "      <th>0</th>\n",
       "      <td>1.324061</td>\n",
       "      <td>-9.108008</td>\n",
       "      <td>-4.994559</td>\n",
       "      <td>-0.350175</td>\n",
       "      <td>0.112426</td>\n",
       "      <td>0.269429</td>\n",
       "      <td>-4.936271</td>\n",
       "      <td>33.363761</td>\n",
       "      <td>37.625305</td>\n",
       "      <td>1</td>\n",
       "    </tr>\n",
       "    <tr>\n",
       "      <th>1</th>\n",
       "      <td>1.422228</td>\n",
       "      <td>-9.153500</td>\n",
       "      <td>-5.025685</td>\n",
       "      <td>-0.342185</td>\n",
       "      <td>0.121214</td>\n",
       "      <td>0.268098</td>\n",
       "      <td>-4.054794</td>\n",
       "      <td>32.831359</td>\n",
       "      <td>36.086086</td>\n",
       "      <td>1</td>\n",
       "    </tr>\n",
       "    <tr>\n",
       "      <th>2</th>\n",
       "      <td>1.388708</td>\n",
       "      <td>-9.036178</td>\n",
       "      <td>-5.114275</td>\n",
       "      <td>-0.361893</td>\n",
       "      <td>0.098843</td>\n",
       "      <td>0.250254</td>\n",
       "      <td>-4.759976</td>\n",
       "      <td>33.896160</td>\n",
       "      <td>36.428134</td>\n",
       "      <td>1</td>\n",
       "    </tr>\n",
       "    <tr>\n",
       "      <th>3</th>\n",
       "      <td>1.297723</td>\n",
       "      <td>-9.167866</td>\n",
       "      <td>-5.006531</td>\n",
       "      <td>-0.351240</td>\n",
       "      <td>0.077005</td>\n",
       "      <td>0.260907</td>\n",
       "      <td>-5.465157</td>\n",
       "      <td>33.896160</td>\n",
       "      <td>34.375846</td>\n",
       "      <td>1</td>\n",
       "    </tr>\n",
       "    <tr>\n",
       "      <th>4</th>\n",
       "      <td>1.288146</td>\n",
       "      <td>-9.160683</td>\n",
       "      <td>-5.104698</td>\n",
       "      <td>-0.337658</td>\n",
       "      <td>0.100441</td>\n",
       "      <td>0.242531</td>\n",
       "      <td>-4.054794</td>\n",
       "      <td>33.896160</td>\n",
       "      <td>37.112232</td>\n",
       "      <td>1</td>\n",
       "    </tr>\n",
       "  </tbody>\n",
       "</table>\n",
       "</div>"
      ],
      "text/plain": [
       "   1.374342  -9.06491  -5.224414  -0.324076   0.16569  0.282479  -3.702203  \\\n",
       "0  1.324061 -9.108008  -4.994559  -0.350175  0.112426  0.269429  -4.936271   \n",
       "1  1.422228 -9.153500  -5.025685  -0.342185  0.121214  0.268098  -4.054794   \n",
       "2  1.388708 -9.036178  -5.114275  -0.361893  0.098843  0.250254  -4.759976   \n",
       "3  1.297723 -9.167866  -5.006531  -0.351240  0.077005  0.260907  -5.465157   \n",
       "4  1.288146 -9.160683  -5.104698  -0.337658  0.100441  0.242531  -4.054794   \n",
       "\n",
       "   32.476425  36.428134  1  \n",
       "0  33.363761  37.625305  1  \n",
       "1  32.831359  36.086086  1  \n",
       "2  33.896160  36.428134  1  \n",
       "3  33.896160  34.375846  1  \n",
       "4  33.896160  37.112232  1  "
      ]
     },
     "execution_count": 26,
     "metadata": {},
     "output_type": "execute_result"
    }
   ],
   "source": [
    "imu_data.head()"
   ]
  },
  {
   "cell_type": "code",
   "execution_count": 27,
   "metadata": {},
   "outputs": [],
   "source": [
    "imu_shuffle_data = shuffle(imu_data)"
   ]
  },
  {
   "cell_type": "markdown",
   "metadata": {},
   "source": [
    "#### Sample Dataset"
   ]
  },
  {
   "cell_type": "code",
   "execution_count": 28,
   "metadata": {},
   "outputs": [
    {
     "data": {
      "text/html": [
       "<div>\n",
       "<style scoped>\n",
       "    .dataframe tbody tr th:only-of-type {\n",
       "        vertical-align: middle;\n",
       "    }\n",
       "\n",
       "    .dataframe tbody tr th {\n",
       "        vertical-align: top;\n",
       "    }\n",
       "\n",
       "    .dataframe thead th {\n",
       "        text-align: right;\n",
       "    }\n",
       "</style>\n",
       "<table border=\"1\" class=\"dataframe\">\n",
       "  <thead>\n",
       "    <tr style=\"text-align: right;\">\n",
       "      <th></th>\n",
       "      <th>1.374342</th>\n",
       "      <th>-9.06491</th>\n",
       "      <th>-5.224414</th>\n",
       "      <th>-0.324076</th>\n",
       "      <th>0.16569</th>\n",
       "      <th>0.282479</th>\n",
       "      <th>-3.702203</th>\n",
       "      <th>32.476425</th>\n",
       "      <th>36.428134</th>\n",
       "      <th>1</th>\n",
       "    </tr>\n",
       "  </thead>\n",
       "  <tbody>\n",
       "    <tr>\n",
       "      <th>1637</th>\n",
       "      <td>-1.735885</td>\n",
       "      <td>-7.946760</td>\n",
       "      <td>2.882766</td>\n",
       "      <td>-0.747212</td>\n",
       "      <td>0.219642</td>\n",
       "      <td>0.161161</td>\n",
       "      <td>-4.231090</td>\n",
       "      <td>53.240043</td>\n",
       "      <td>15.392170</td>\n",
       "      <td>7</td>\n",
       "    </tr>\n",
       "    <tr>\n",
       "      <th>5</th>\n",
       "      <td>1.336033</td>\n",
       "      <td>-9.117585</td>\n",
       "      <td>-5.126247</td>\n",
       "      <td>-0.350708</td>\n",
       "      <td>0.093251</td>\n",
       "      <td>0.255314</td>\n",
       "      <td>-4.407385</td>\n",
       "      <td>33.896160</td>\n",
       "      <td>36.086086</td>\n",
       "      <td>1</td>\n",
       "    </tr>\n",
       "    <tr>\n",
       "      <th>261</th>\n",
       "      <td>8.684212</td>\n",
       "      <td>3.308955</td>\n",
       "      <td>-5.952289</td>\n",
       "      <td>0.081699</td>\n",
       "      <td>0.137657</td>\n",
       "      <td>-0.073028</td>\n",
       "      <td>-25.915424</td>\n",
       "      <td>-6.211338</td>\n",
       "      <td>-18.983676</td>\n",
       "      <td>2</td>\n",
       "    </tr>\n",
       "    <tr>\n",
       "      <th>1615</th>\n",
       "      <td>-2.209961</td>\n",
       "      <td>-8.097603</td>\n",
       "      <td>3.296984</td>\n",
       "      <td>-0.795948</td>\n",
       "      <td>0.081688</td>\n",
       "      <td>0.073542</td>\n",
       "      <td>-2.644431</td>\n",
       "      <td>52.707641</td>\n",
       "      <td>15.563195</td>\n",
       "      <td>7</td>\n",
       "    </tr>\n",
       "    <tr>\n",
       "      <th>1356</th>\n",
       "      <td>-2.911498</td>\n",
       "      <td>-8.636326</td>\n",
       "      <td>0.459710</td>\n",
       "      <td>0.453594</td>\n",
       "      <td>0.290377</td>\n",
       "      <td>-0.245788</td>\n",
       "      <td>-31.909467</td>\n",
       "      <td>48.448440</td>\n",
       "      <td>-1.197169</td>\n",
       "      <td>6</td>\n",
       "    </tr>\n",
       "  </tbody>\n",
       "</table>\n",
       "</div>"
      ],
      "text/plain": [
       "      1.374342  -9.06491  -5.224414  -0.324076   0.16569  0.282479  -3.702203  \\\n",
       "1637 -1.735885 -7.946760   2.882766  -0.747212  0.219642  0.161161  -4.231090   \n",
       "5     1.336033 -9.117585  -5.126247  -0.350708  0.093251  0.255314  -4.407385   \n",
       "261   8.684212  3.308955  -5.952289   0.081699  0.137657 -0.073028 -25.915424   \n",
       "1615 -2.209961 -8.097603   3.296984  -0.795948  0.081688  0.073542  -2.644431   \n",
       "1356 -2.911498 -8.636326   0.459710   0.453594  0.290377 -0.245788 -31.909467   \n",
       "\n",
       "      32.476425  36.428134  1  \n",
       "1637  53.240043  15.392170  7  \n",
       "5     33.896160  36.086086  1  \n",
       "261   -6.211338 -18.983676  2  \n",
       "1615  52.707641  15.563195  7  \n",
       "1356  48.448440  -1.197169  6  "
      ]
     },
     "execution_count": 28,
     "metadata": {},
     "output_type": "execute_result"
    }
   ],
   "source": [
    "imu_shuffle_data.head()"
   ]
  },
  {
   "cell_type": "code",
   "execution_count": 29,
   "metadata": {},
   "outputs": [
    {
     "name": "stdout",
     "output_type": "stream",
     "text": [
      "Dataset Lenght:: 2409\n",
      "Dataset Shape:: (2409, 10)\n"
     ]
    }
   ],
   "source": [
    "print (\"Dataset Lenght:: \"+ str(len(imu_shuffle_data)))\n",
    "print (\"Dataset Shape:: \"+str(imu_shuffle_data.shape))"
   ]
  },
  {
   "cell_type": "markdown",
   "metadata": {},
   "source": [
    "### seperating label column and feature colum"
   ]
  },
  {
   "cell_type": "code",
   "execution_count": 30,
   "metadata": {},
   "outputs": [],
   "source": [
    "X = imu_shuffle_data.values[:,0:9]\n",
    "Y = imu_shuffle_data.values[:,-1]"
   ]
  },
  {
   "cell_type": "markdown",
   "metadata": {},
   "source": [
    "### Splitting test data and training data"
   ]
  },
  {
   "cell_type": "code",
   "execution_count": 31,
   "metadata": {},
   "outputs": [],
   "source": [
    "X_train, X_test, y_train, y_test = train_test_split( X, Y, test_size = 0.3, random_state = 100)"
   ]
  },
  {
   "cell_type": "markdown",
   "metadata": {},
   "source": [
    "### Decision tree classifier with gini index as criterion"
   ]
  },
  {
   "cell_type": "code",
   "execution_count": 32,
   "metadata": {},
   "outputs": [
    {
     "data": {
      "text/plain": [
       "DecisionTreeClassifier(class_weight=None, criterion='gini', max_depth=3,\n",
       "            max_features=None, max_leaf_nodes=None,\n",
       "            min_impurity_decrease=0.0, min_impurity_split=None,\n",
       "            min_samples_leaf=5, min_samples_split=2,\n",
       "            min_weight_fraction_leaf=0.0, presort=False, random_state=100,\n",
       "            splitter='best')"
      ]
     },
     "execution_count": 32,
     "metadata": {},
     "output_type": "execute_result"
    }
   ],
   "source": [
    "clf_gini = DecisionTreeClassifier(criterion = \"gini\", random_state = 100,\n",
    "                               max_depth=3, min_samples_leaf=5)\n",
    "clf_gini.fit(X_train, y_train)"
   ]
  },
  {
   "cell_type": "markdown",
   "metadata": {},
   "source": [
    "### Decision tree classifier with information gain as criterion"
   ]
  },
  {
   "cell_type": "code",
   "execution_count": 33,
   "metadata": {},
   "outputs": [
    {
     "data": {
      "text/plain": [
       "DecisionTreeClassifier(class_weight=None, criterion='entropy', max_depth=3,\n",
       "            max_features=None, max_leaf_nodes=None,\n",
       "            min_impurity_decrease=0.0, min_impurity_split=None,\n",
       "            min_samples_leaf=5, min_samples_split=2,\n",
       "            min_weight_fraction_leaf=0.0, presort=False, random_state=100,\n",
       "            splitter='best')"
      ]
     },
     "execution_count": 33,
     "metadata": {},
     "output_type": "execute_result"
    }
   ],
   "source": [
    "clf_entropy = DecisionTreeClassifier(criterion = \"entropy\", random_state = 100,\n",
    " max_depth=3, min_samples_leaf=5)\n",
    "clf_entropy.fit(X_train, y_train)"
   ]
  },
  {
   "cell_type": "markdown",
   "metadata": {},
   "source": [
    "### Sample prediction result"
   ]
  },
  {
   "cell_type": "code",
   "execution_count": 34,
   "metadata": {},
   "outputs": [
    {
     "data": {
      "text/plain": [
       "array([6.])"
      ]
     },
     "execution_count": 34,
     "metadata": {},
     "output_type": "execute_result"
    }
   ],
   "source": [
    "clf_gini.predict([[-1.053502,-9.151105,-4.968222,-0.525817,-0.22892,-0.382496,-35.96426,42.592033,5.81482\n",
    "]])"
   ]
  },
  {
   "cell_type": "markdown",
   "metadata": {},
   "source": [
    "### prediction using gini index as criterion"
   ]
  },
  {
   "cell_type": "code",
   "execution_count": 35,
   "metadata": {},
   "outputs": [
    {
     "data": {
      "text/plain": [
       "array([9., 9., 9., 9., 9., 9., 6., 9., 4., 9., 9., 4., 9., 9., 9., 6., 9.,\n",
       "       9., 9., 9., 7., 7., 9., 9., 6., 6., 9., 9., 9., 9., 9., 9., 9., 9.,\n",
       "       9., 9., 9., 7., 7., 9., 9., 9., 9., 9., 9., 9., 4., 4., 4., 9., 9.,\n",
       "       9., 9., 4., 7., 9., 6., 7., 9., 9., 7., 6., 4., 9., 9., 7., 7., 9.,\n",
       "       9., 9., 9., 9., 9., 9., 6., 9., 9., 6., 9., 9., 9., 9., 9., 9., 7.,\n",
       "       9., 9., 4., 9., 9., 9., 9., 7., 9., 9., 4., 9., 9., 9., 9., 9., 9.,\n",
       "       9., 9., 7., 4., 9., 6., 9., 6., 9., 4., 9., 9., 9., 7., 4., 6., 9.,\n",
       "       7., 6., 4., 7., 9., 9., 9., 9., 9., 9., 9., 9., 9., 9., 9., 9., 9.,\n",
       "       9., 9., 7., 9., 7., 4., 9., 9., 9., 9., 9., 4., 9., 6., 6., 9., 9.,\n",
       "       9., 9., 9., 9., 9., 9., 9., 9., 6., 9., 9., 4., 9., 9., 9., 9., 9.,\n",
       "       9., 7., 9., 9., 6., 9., 9., 6., 4., 9., 9., 4., 9., 9., 9., 9., 9.,\n",
       "       9., 9., 7., 9., 9., 9., 7., 7., 9., 6., 9., 9., 9., 6., 9., 9., 6.,\n",
       "       9., 9., 9., 9., 9., 9., 9., 9., 9., 6., 4., 7., 6., 9., 7., 6., 9.,\n",
       "       6., 9., 9., 9., 9., 9., 9., 7., 9., 9., 9., 9., 9., 9., 9., 9., 9.,\n",
       "       4., 9., 7., 9., 9., 4., 9., 9., 6., 6., 9., 9., 9., 9., 9., 9., 4.,\n",
       "       7., 4., 9., 9., 9., 6., 9., 9., 9., 9., 9., 9., 9., 9., 9., 9., 9.,\n",
       "       9., 9., 9., 9., 4., 9., 4., 9., 7., 9., 9., 7., 9., 7., 7., 7., 9.,\n",
       "       9., 9., 9., 9., 9., 9., 9., 4., 9., 9., 6., 9., 9., 9., 9., 4., 9.,\n",
       "       7., 9., 6., 9., 9., 9., 9., 9., 7., 9., 9., 9., 9., 9., 9., 9., 9.,\n",
       "       9., 9., 4., 9., 9., 9., 7., 9., 9., 9., 9., 7., 9., 9., 9., 9., 6.,\n",
       "       7., 4., 9., 9., 7., 9., 9., 9., 4., 9., 9., 6., 6., 6., 7., 9., 4.,\n",
       "       9., 9., 4., 9., 9., 9., 9., 6., 6., 4., 9., 9., 9., 9., 9., 4., 7.,\n",
       "       9., 9., 9., 9., 9., 9., 9., 7., 7., 9., 9., 9., 9., 6., 9., 9., 9.,\n",
       "       9., 9., 9., 9., 9., 4., 9., 4., 9., 7., 7., 9., 6., 9., 9., 6., 9.,\n",
       "       9., 6., 9., 7., 9., 9., 7., 4., 9., 9., 9., 4., 9., 9., 9., 9., 9.,\n",
       "       7., 6., 9., 9., 9., 9., 9., 9., 9., 6., 9., 9., 9., 9., 9., 9., 4.,\n",
       "       9., 7., 7., 9., 6., 9., 9., 9., 9., 7., 9., 6., 6., 9., 9., 9., 4.,\n",
       "       9., 7., 9., 4., 9., 9., 9., 9., 9., 9., 9., 9., 9., 9., 9., 6., 9.,\n",
       "       7., 7., 9., 9., 7., 9., 9., 4., 4., 7., 9., 7., 9., 9., 9., 4., 9.,\n",
       "       9., 6., 6., 6., 9., 9., 9., 6., 9., 9., 9., 4., 6., 9., 9., 9., 9.,\n",
       "       9., 4., 6., 9., 6., 9., 9., 9., 7., 6., 9., 7., 9., 9., 7., 9., 9.,\n",
       "       9., 6., 9., 9., 9., 9., 9., 9., 9., 9., 9., 4., 9., 9., 9., 9., 9.,\n",
       "       7., 9., 9., 4., 9., 9., 9., 9., 9., 6., 7., 9., 9., 9., 9., 6., 7.,\n",
       "       9., 6., 9., 9., 9., 9., 9., 4., 9., 9., 4., 9., 6., 9., 9., 9., 4.,\n",
       "       4., 7., 7., 9., 9., 9., 9., 9., 4., 9., 9., 9., 9., 9., 9., 9., 4.,\n",
       "       9., 9., 6., 9., 9., 9., 9., 7., 9., 9., 9., 9., 9., 9., 4., 9., 9.,\n",
       "       9., 9., 9., 9., 9., 9., 6., 9., 9., 9., 9., 9., 9., 4., 4., 9., 9.,\n",
       "       7., 9., 4., 9., 7., 6., 9., 9., 9., 9., 6., 9., 4., 9., 9., 9., 4.,\n",
       "       6., 9., 9., 9., 9., 9., 9., 4., 9., 6., 9., 4., 9., 9., 9., 9., 9.,\n",
       "       9., 9., 9., 9., 6., 9., 6., 9., 9., 4., 9., 9., 9., 9., 9., 9., 9.,\n",
       "       9., 6., 9., 9., 4., 9., 9., 9., 9., 7., 9., 6., 9., 9., 7., 6., 9.,\n",
       "       9., 9., 6., 9., 9., 6., 9., 6., 9., 9., 4., 9., 9., 9., 6., 9., 9.,\n",
       "       7., 9., 9., 9., 9., 7., 9., 7., 9.])"
      ]
     },
     "execution_count": 35,
     "metadata": {},
     "output_type": "execute_result"
    }
   ],
   "source": [
    "y_pred = clf_gini.predict(X_test)\n",
    "y_pred"
   ]
  },
  {
   "cell_type": "markdown",
   "metadata": {},
   "source": [
    "### Prediction usin Information gain as criterion"
   ]
  },
  {
   "cell_type": "code",
   "execution_count": 36,
   "metadata": {},
   "outputs": [
    {
     "data": {
      "text/plain": [
       "array([8., 3., 8., 2., 9., 8., 6., 3., 4., 2., 8., 4., 3., 8., 8., 6., 8.,\n",
       "       9., 9., 8., 7., 7., 8., 3., 6., 6., 8., 3., 8., 9., 2., 8., 9., 1.,\n",
       "       8., 9., 4., 7., 7., 2., 1., 3., 3., 1., 2., 9., 4., 4., 4., 3., 8.,\n",
       "       8., 4., 4., 7., 8., 6., 7., 8., 2., 7., 6., 4., 9., 8., 7., 7., 8.,\n",
       "       1., 8., 1., 4., 8., 4., 6., 1., 9., 6., 2., 8., 3., 3., 8., 8., 7.,\n",
       "       3., 8., 4., 9., 3., 3., 2., 7., 8., 4., 4., 2., 8., 9., 8., 4., 2.,\n",
       "       1., 4., 7., 4., 8., 6., 9., 6., 1., 4., 3., 9., 8., 7., 4., 6., 8.,\n",
       "       7., 6., 4., 7., 8., 9., 8., 8., 8., 8., 9., 3., 1., 9., 8., 8., 8.,\n",
       "       4., 9., 7., 4., 7., 4., 3., 3., 1., 9., 9., 4., 8., 6., 6., 9., 3.,\n",
       "       2., 8., 8., 1., 2., 3., 1., 3., 6., 9., 9., 4., 9., 2., 8., 8., 2.,\n",
       "       8., 7., 1., 4., 6., 8., 8., 6., 4., 8., 1., 4., 8., 9., 2., 2., 8.,\n",
       "       8., 4., 7., 9., 9., 4., 7., 7., 2., 6., 9., 4., 3., 6., 1., 2., 6.,\n",
       "       3., 3., 8., 8., 2., 4., 9., 2., 2., 6., 4., 7., 6., 2., 7., 6., 9.,\n",
       "       6., 8., 2., 1., 3., 8., 3., 7., 8., 8., 1., 8., 4., 3., 2., 8., 9.,\n",
       "       4., 1., 7., 3., 8., 4., 4., 4., 6., 6., 1., 4., 8., 8., 8., 8., 4.,\n",
       "       7., 4., 2., 8., 1., 6., 2., 9., 1., 8., 8., 9., 1., 9., 2., 3., 1.,\n",
       "       9., 3., 9., 3., 4., 9., 4., 2., 7., 3., 1., 7., 3., 7., 7., 7., 3.,\n",
       "       1., 1., 9., 3., 8., 3., 8., 4., 9., 8., 6., 2., 3., 8., 9., 4., 2.,\n",
       "       7., 3., 6., 8., 9., 8., 4., 8., 7., 8., 8., 3., 2., 1., 4., 2., 8.,\n",
       "       3., 8., 4., 1., 4., 9., 7., 2., 1., 1., 9., 7., 4., 1., 3., 1., 6.,\n",
       "       7., 4., 8., 2., 7., 3., 3., 3., 4., 4., 1., 6., 6., 6., 7., 3., 4.,\n",
       "       2., 1., 4., 2., 8., 8., 1., 6., 6., 4., 3., 3., 1., 1., 2., 4., 7.,\n",
       "       9., 8., 8., 2., 4., 2., 4., 7., 7., 2., 8., 8., 9., 6., 2., 8., 8.,\n",
       "       9., 1., 1., 4., 9., 4., 2., 4., 8., 7., 7., 4., 6., 4., 8., 6., 3.,\n",
       "       3., 6., 3., 7., 2., 9., 7., 4., 2., 3., 1., 4., 9., 4., 2., 9., 3.,\n",
       "       7., 6., 8., 8., 4., 9., 8., 8., 1., 6., 1., 2., 1., 9., 9., 4., 4.,\n",
       "       3., 7., 7., 8., 6., 2., 3., 8., 4., 7., 3., 6., 6., 8., 1., 9., 4.,\n",
       "       3., 7., 2., 4., 8., 9., 2., 8., 8., 8., 1., 8., 1., 8., 3., 6., 8.,\n",
       "       7., 7., 9., 3., 7., 2., 2., 4., 4., 7., 8., 7., 8., 1., 1., 4., 8.,\n",
       "       3., 6., 6., 6., 3., 8., 8., 6., 1., 8., 4., 4., 6., 4., 1., 8., 2.,\n",
       "       1., 4., 6., 3., 6., 7., 1., 1., 7., 6., 2., 7., 1., 1., 7., 1., 1.,\n",
       "       8., 6., 1., 8., 4., 9., 8., 2., 9., 2., 8., 4., 8., 1., 8., 8., 8.,\n",
       "       7., 3., 2., 4., 8., 9., 8., 4., 9., 6., 7., 8., 8., 3., 3., 6., 7.,\n",
       "       8., 6., 8., 4., 2., 8., 1., 4., 8., 8., 4., 8., 6., 1., 8., 9., 4.,\n",
       "       4., 7., 7., 9., 9., 8., 8., 9., 4., 1., 8., 8., 4., 8., 3., 3., 4.,\n",
       "       2., 8., 6., 1., 9., 3., 3., 7., 2., 2., 8., 1., 2., 8., 4., 8., 3.,\n",
       "       8., 8., 2., 1., 9., 8., 6., 9., 1., 1., 8., 9., 8., 4., 4., 8., 8.,\n",
       "       7., 8., 4., 1., 7., 6., 9., 2., 9., 4., 6., 8., 4., 8., 8., 8., 4.,\n",
       "       6., 2., 3., 3., 2., 8., 3., 4., 2., 6., 8., 4., 2., 4., 2., 8., 4.,\n",
       "       3., 9., 2., 4., 6., 2., 6., 3., 1., 4., 8., 3., 1., 1., 8., 3., 4.,\n",
       "       1., 6., 8., 8., 4., 2., 2., 2., 8., 7., 3., 6., 3., 9., 7., 6., 2.,\n",
       "       8., 3., 6., 3., 8., 6., 9., 6., 4., 9., 4., 2., 4., 1., 6., 4., 8.,\n",
       "       7., 3., 8., 8., 9., 7., 1., 7., 8.])"
      ]
     },
     "execution_count": 36,
     "metadata": {},
     "output_type": "execute_result"
    }
   ],
   "source": [
    "y_pred_en = clf_entropy.predict(X_test)\n",
    "y_pred_en"
   ]
  },
  {
   "cell_type": "markdown",
   "metadata": {},
   "source": [
    "### Result"
   ]
  },
  {
   "cell_type": "code",
   "execution_count": 37,
   "metadata": {},
   "outputs": [
    {
     "name": "stdout",
     "output_type": "stream",
     "text": [
      "Accuracy is 38.865836791148\n"
     ]
    }
   ],
   "source": [
    "print (\"Accuracy is \"+str( accuracy_score(y_test,y_pred)*100))"
   ]
  },
  {
   "cell_type": "code",
   "execution_count": 38,
   "metadata": {},
   "outputs": [
    {
     "name": "stdout",
     "output_type": "stream",
     "text": [
      "Accuracy is 81.18948824343015\n"
     ]
    }
   ],
   "source": [
    "print (\"Accuracy is \"+ str(accuracy_score(y_test,y_pred_en)*100))"
   ]
  },
  {
   "cell_type": "markdown",
   "metadata": {},
   "source": [
    "### Confusion matrix using gini index as criterion"
   ]
  },
  {
   "cell_type": "code",
   "execution_count": 39,
   "metadata": {},
   "outputs": [
    {
     "name": "stdout",
     "output_type": "stream",
     "text": [
      "[[ 0  0  0  0  0  0  0  0 74  0]\n",
      " [ 0  0  0  0  0  0  0  0 75  0]\n",
      " [ 0  0  0  0  0  0  0  0 80  0]\n",
      " [ 0  0  0 65  0  0  0  0  0  0]\n",
      " [ 0  0  0  0  0  0  0  0 87  0]\n",
      " [ 0  0  0  0  0 73  0  0  0  0]\n",
      " [ 0  0  0  0  0  0 71  0  1  0]\n",
      " [ 0  0  0  0  0  0  0  0 77  0]\n",
      " [ 0  0  0  0  0  0  0  0 72  0]\n",
      " [ 0  0  0  0  0  0  0  0 48  0]]\n"
     ]
    }
   ],
   "source": [
    "from sklearn.metrics import confusion_matrix\n",
    "import matplotlib.pyplot as plt\n",
    "labels = [1,2,3,4,5,6,7,8,9,10]\n",
    "cm_gini = confusion_matrix(y_test, y_pred,labels)\n",
    "print(cm_gini)"
   ]
  },
  {
   "cell_type": "code",
   "execution_count": 40,
   "metadata": {},
   "outputs": [
    {
     "data": {
      "image/png": "[encoded data removed]",
      "text/plain": [
       "<Figure size 432x288 with 2 Axes>"
      ]
     },
     "metadata": {
      "needs_background": "light"
     },
     "output_type": "display_data"
    }
   ],
   "source": [
    "fig = plt.figure()\n",
    "ax = fig.add_subplot(111)\n",
    "cax = ax.matshow(cm_gini)\n",
    "plt.title('Confusion matrix using gini index as criterion')\n",
    "fig.colorbar(cax)\n",
    "ax.set_xticklabels([''] + labels)\n",
    "ax.set_yticklabels([''] + labels)\n",
    "plt.xlabel('Predicted')\n",
    "plt.ylabel('True')\n",
    "plt.show()"
   ]
  },
  {
   "cell_type": "markdown",
   "metadata": {},
   "source": [
    "### Confusion matrix using information gain as criterion"
   ]
  },
  {
   "cell_type": "code",
   "execution_count": 41,
   "metadata": {},
   "outputs": [
    {
     "name": "stdout",
     "output_type": "stream",
     "text": [
      "[[74  0  0  0  0  0  0  0  0  0]\n",
      " [ 0 75  0  0  0  0  0  0  0  0]\n",
      " [ 0  0 79  1  0  0  0  0  0  0]\n",
      " [ 0  0  0 65  0  0  0  0  0  0]\n",
      " [ 0  0  0  0  0  0  0 87  0  0]\n",
      " [ 0  0  0  0  0 73  0  0  0  0]\n",
      " [ 0  0  0  0  0  0 72  0  0  0]\n",
      " [ 0  0  0  0  0  0  0 77  0  0]\n",
      " [ 0  0  0  0  0  0  0  0 72  0]\n",
      " [ 0  0  1 45  0  0  0  0  2  0]]\n"
     ]
    }
   ],
   "source": [
    "cm = confusion_matrix(y_test, y_pred_en,labels)\n",
    "print(cm)"
   ]
  },
  {
   "cell_type": "code",
   "execution_count": 42,
   "metadata": {},
   "outputs": [
    {
     "data": {
      "image/png": "[encoded data removed]",
      "text/plain": [
       "<Figure size 432x288 with 2 Axes>"
      ]
     },
     "metadata": {
      "needs_background": "light"
     },
     "output_type": "display_data"
    }
   ],
   "source": [
    "fig = plt.figure()\n",
    "ax = fig.add_subplot(111)\n",
    "cax = ax.matshow(cm)\n",
    "plt.title('Confusion matrix Using Information gain as Criterion')\n",
    "fig.colorbar(cax)\n",
    "ax.set_xticklabels([''] + labels)\n",
    "ax.set_yticklabels([''] + labels)\n",
    "plt.xlabel('Predicted')\n",
    "plt.ylabel('True')\n",
    "plt.show()"
   ]
  },
  {
   "cell_type": "code",
   "execution_count": null,
   "metadata": {},
   "outputs": [],
   "source": []
  }
 ],
 "metadata": {
  "kernelspec": {
   "display_name": "Python 3",
   "language": "python",
   "name": "python3"
  },
  "language_info": {
   "codemirror_mode": {
    "name": "ipython",
    "version": 3
   },
   "file_extension": ".py",
   "mimetype": "text/x-python",
   "name": "python",
   "nbconvert_exporter": "python",
   "pygments_lexer": "ipython3",
   "version": "3.7.1"
  }
 },
 "nbformat": 4,
 "nbformat_minor": 2
}
